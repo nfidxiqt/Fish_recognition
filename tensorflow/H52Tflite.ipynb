{
 "cells": [
  {
   "cell_type": "code",
   "execution_count": null,
   "metadata": {},
   "outputs": [],
   "source": [
    "import tensorflow as tf\n",
    "import numpy as np\n",
    "from tensorflow import keras\n",
    "#from tensorflow.contrib import lite\n",
    "\n",
    "keras_file = \"./first_try.h5\"\n",
    "#converter = lite.TocoConverter.from_keras_model_file(keras_file)\n",
    "converter = tf.lite.TFLiteConverter.from_keras_model_file(keras_file)\n",
    "#converter.post_training_quantize = True\n",
    "tflite_model = converter.convert()\n",
    "open(\"model.tflite\",\"wb\").write(tflite_model)"
   ]
  }
 ],
 "metadata": {
  "kernelspec": {
   "display_name": "Python 3",
   "language": "python",
   "name": "python3"
  },
  "language_info": {
   "codemirror_mode": {
    "name": "ipython",
    "version": 3
   },
   "file_extension": ".py",
   "mimetype": "text/x-python",
   "name": "python",
   "nbconvert_exporter": "python",
   "pygments_lexer": "ipython3",
   "version": "3.7.6"
  }
 },
 "nbformat": 4,
 "nbformat_minor": 4
}
